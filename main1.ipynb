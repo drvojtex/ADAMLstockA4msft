{
 "cells": [
  {
   "cell_type": "markdown",
   "metadata": {},
   "source": [
    "# Part 1 - initial data analysis and visualisation"
   ]
  },
  {
   "cell_type": "markdown",
   "metadata": {},
   "source": [
    "## Import libraries "
   ]
  },
  {
   "cell_type": "code",
   "execution_count": 9,
   "metadata": {},
   "outputs": [],
   "source": [
    "import numpy as np\n",
    "import pandas as pd\n",
    "import matplotlib.pyplot as plt\n",
    "\n",
    "from src import *"
   ]
  },
  {
   "cell_type": "markdown",
   "metadata": {},
   "source": [
    "## Loading data"
   ]
  },
  {
   "cell_type": "code",
   "execution_count": 10,
   "metadata": {},
   "outputs": [
    {
     "name": "stdout",
     "output_type": "stream",
     "text": [
      "<class 'pandas.core.frame.DataFrame'>\n",
      "RangeIndex: 3019 entries, 0 to 3018\n",
      "Data columns (total 7 columns):\n",
      " #   Column  Non-Null Count  Dtype  \n",
      "---  ------  --------------  -----  \n",
      " 0   Date    3019 non-null   object \n",
      " 1   Open    3019 non-null   float64\n",
      " 2   High    3019 non-null   float64\n",
      " 3   Low     3019 non-null   float64\n",
      " 4   Close   3019 non-null   float64\n",
      " 5   Volume  3019 non-null   int64  \n",
      " 6   Name    3019 non-null   object \n",
      "dtypes: float64(4), int64(1), object(2)\n",
      "memory usage: 165.2+ KB\n",
      "None\n",
      "\n",
      "         Date   Open   High    Low  Close     Volume  Name\n",
      "0  2006-01-03  26.25  27.00  26.10  26.84   79974418  MSFT\n",
      "1  2006-01-04  26.77  27.08  26.77  26.97   57975661  MSFT\n",
      "2  2006-01-05  26.96  27.13  26.91  26.99   48247610  MSFT\n",
      "3  2006-01-06  26.89  27.00  26.49  26.91  100969092  MSFT\n",
      "4  2006-01-09  26.93  27.07  26.76  26.86   55627836  MSFT\n"
     ]
    }
   ],
   "source": [
    "dataloader = CSVDataLoader('data/MSFT_2006-01-01_to_2018-01-01.csv')\n",
    "raw_df = dataloader.load()\n",
    "\n",
    "print(raw_df.info())\n",
    "print()\n",
    "print(raw_df.head())"
   ]
  }
 ],
 "metadata": {
  "kernelspec": {
   "display_name": "main",
   "language": "python",
   "name": "python3"
  },
  "language_info": {
   "codemirror_mode": {
    "name": "ipython",
    "version": 3
   },
   "file_extension": ".py",
   "mimetype": "text/x-python",
   "name": "python",
   "nbconvert_exporter": "python",
   "pygments_lexer": "ipython3",
   "version": "3.12.4"
  }
 },
 "nbformat": 4,
 "nbformat_minor": 2
}
