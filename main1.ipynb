{
 "cells": [
  {
   "cell_type": "markdown",
   "metadata": {},
   "source": [
    "# Part 1 - initial data analysis and visualisation"
   ]
  },
  {
   "cell_type": "markdown",
   "metadata": {},
   "source": [
    "## Import libraries "
   ]
  },
  {
   "cell_type": "code",
   "execution_count": 1,
   "metadata": {},
   "outputs": [],
   "source": [
    "import numpy as np\n",
    "import pandas as pd\n",
    "import matplotlib.pyplot as plt\n",
    "\n",
    "from src import *"
   ]
  },
  {
   "cell_type": "markdown",
   "metadata": {},
   "source": [
    "## Loading data"
   ]
  },
  {
   "cell_type": "code",
   "execution_count": 2,
   "metadata": {},
   "outputs": [
    {
     "name": "stdout",
     "output_type": "stream",
     "text": [
      "<class 'pandas.core.frame.DataFrame'>\n",
      "RangeIndex: 3019 entries, 0 to 3018\n",
      "Data columns (total 7 columns):\n",
      " #   Column  Non-Null Count  Dtype  \n",
      "---  ------  --------------  -----  \n",
      " 0   Date    3019 non-null   object \n",
      " 1   Open    3019 non-null   float64\n",
      " 2   High    3019 non-null   float64\n",
      " 3   Low     3019 non-null   float64\n",
      " 4   Close   3019 non-null   float64\n",
      " 5   Volume  3019 non-null   int64  \n",
      " 6   Name    3019 non-null   object \n",
      "dtypes: float64(4), int64(1), object(2)\n",
      "memory usage: 165.2+ KB\n",
      "None\n",
      "\n",
      "         Date   Open   High    Low  Close     Volume  Name\n",
      "0  2006-01-03  26.25  27.00  26.10  26.84   79974418  MSFT\n",
      "1  2006-01-04  26.77  27.08  26.77  26.97   57975661  MSFT\n",
      "2  2006-01-05  26.96  27.13  26.91  26.99   48247610  MSFT\n",
      "3  2006-01-06  26.89  27.00  26.49  26.91  100969092  MSFT\n",
      "4  2006-01-09  26.93  27.07  26.76  26.86   55627836  MSFT\n"
     ]
    }
   ],
   "source": [
    "dataloader = CSVDataLoader('data/MSFT_2006-01-01_to_2018-01-01.csv')\n",
    "raw_df = dataloader.load()\n",
    "\n",
    "print(raw_df.info())\n",
    "print()\n",
    "print(raw_df.head())"
   ]
  },
  {
   "cell_type": "markdown",
   "metadata": {},
   "source": [
    "## Visualise time-series"
   ]
  },
  {
   "cell_type": "code",
   "execution_count": 6,
   "metadata": {},
   "outputs": [
    {
     "data": {
      "application/vnd.plotly.v1+json": {
       "config": {
        "plotlyServerURL": "https://plot.ly"
       },
       "data": [
        {
         "line": {
          "color": "rgb(34, 162, 135)",
          "width": 4
         },
         "mode": "lines",
         "showlegend": false,
         "type": "scatter",
         "x": [
          "2006-01-03T00:00:00",
          "2006-01-03T00:00:00"
         ],
         "y": [
          26.1,
          27
         ]
        },
        {
         "line": {
          "color": "rgb(52, 96, 141)",
          "width": 4
         },
         "mode": "lines",
         "showlegend": false,
         "type": "scatter",
         "x": [
          "2006-01-04T00:00:00",
          "2006-01-04T00:00:00"
         ],
         "y": [
          26.77,
          27.08
         ]
        },
        {
         "line": {
          "color": "rgb(68, 53, 127)",
          "width": 4
         },
         "mode": "lines",
         "showlegend": false,
         "type": "scatter",
         "x": [
          "2006-01-05T00:00:00",
          "2006-01-05T00:00:00"
         ],
         "y": [
          26.91,
          27.13
         ]
        },
        {
         "line": {
          "color": "rgb(103, 203, 92)",
          "width": 4
         },
         "mode": "lines",
         "showlegend": false,
         "type": "scatter",
         "x": [
          "2006-01-06T00:00:00",
          "2006-01-06T00:00:00"
         ],
         "y": [
          26.49,
          27
         ]
        },
        {
         "line": {
          "color": "rgb(56, 87, 139)",
          "width": 4
         },
         "mode": "lines",
         "showlegend": false,
         "type": "scatter",
         "x": [
          "2006-01-09T00:00:00",
          "2006-01-09T00:00:00"
         ],
         "y": [
          26.76,
          27.07
         ]
        },
        {
         "line": {
          "color": "rgb(42, 119, 142)",
          "width": 4
         },
         "mode": "lines",
         "showlegend": false,
         "type": "scatter",
         "x": [
          "2006-01-10T00:00:00",
          "2006-01-10T00:00:00"
         ],
         "y": [
          26.59,
          27.02
         ]
        },
        {
         "line": {
          "color": "rgb(37, 135, 141)",
          "width": 4
         },
         "mode": "lines",
         "showlegend": false,
         "type": "scatter",
         "x": [
          "2006-01-11T00:00:00",
          "2006-01-11T00:00:00"
         ],
         "y": [
          26.9,
          27.39
         ]
        },
        {
         "line": {
          "color": "rgb(72, 41, 121)",
          "width": 4
         },
         "mode": "lines",
         "showlegend": false,
         "type": "scatter",
         "x": [
          "2006-01-12T00:00:00",
          "2006-01-12T00:00:00"
         ],
         "y": [
          26.97,
          27.26
         ]
        },
        {
         "line": {
          "color": "rgb(69, 11, 94)",
          "width": 4
         },
         "mode": "lines",
         "showlegend": false,
         "type": "scatter",
         "x": [
          "2006-01-13T00:00:00",
          "2006-01-13T00:00:00"
         ],
         "y": [
          27.01,
          27.25
         ]
        },
        {
         "line": {
          "color": "rgb(51, 99, 141)",
          "width": 4
         },
         "mode": "lines",
         "showlegend": false,
         "type": "scatter",
         "x": [
          "2006-01-17T00:00:00",
          "2006-01-17T00:00:00"
         ],
         "y": [
          26.9,
          27.19
         ]
        },
        {
         "line": {
          "color": "rgb(62, 74, 137)",
          "width": 4
         },
         "mode": "lines",
         "showlegend": false,
         "type": "scatter",
         "x": [
          "2006-01-18T00:00:00",
          "2006-01-18T00:00:00"
         ],
         "y": [
          26.7,
          26.98
         ]
        },
        {
         "line": {
          "color": "rgb(48, 105, 142)",
          "width": 4
         },
         "mode": "lines",
         "showlegend": false,
         "type": "scatter",
         "x": [
          "2006-01-19T00:00:00",
          "2006-01-19T00:00:00"
         ],
         "y": [
          26.85,
          27.24
         ]
        },
        {
         "line": {
          "color": "rgb(33, 160, 136)",
          "width": 4
         },
         "mode": "lines",
         "showlegend": false,
         "type": "scatter",
         "x": [
          "2006-01-20T00:00:00",
          "2006-01-20T00:00:00"
         ],
         "y": [
          26.26,
          27.01
         ]
        },
        {
         "line": {
          "color": "rgb(69, 52, 126)",
          "width": 4
         },
         "mode": "lines",
         "showlegend": false,
         "type": "scatter",
         "x": [
          "2006-01-23T00:00:00",
          "2006-01-23T00:00:00"
         ],
         "y": [
          26.3,
          26.53
         ]
        },
        {
         "line": {
          "color": "rgb(45, 114, 142)",
          "width": 4
         },
         "mode": "lines",
         "showlegend": false,
         "type": "scatter",
         "x": [
          "2006-01-24T00:00:00",
          "2006-01-24T00:00:00"
         ],
         "y": [
          26.22,
          26.45
         ]
        },
        {
         "line": {
          "color": "rgb(50, 101, 141)",
          "width": 4
         },
         "mode": "lines",
         "showlegend": false,
         "type": "scatter",
         "x": [
          "2006-01-25T00:00:00",
          "2006-01-25T00:00:00"
         ],
         "y": [
          26.23,
          26.57
         ]
        },
        {
         "line": {
          "color": "rgb(37, 133, 141)",
          "width": 4
         },
         "mode": "lines",
         "showlegend": false,
         "type": "scatter",
         "x": [
          "2006-01-26T00:00:00",
          "2006-01-26T00:00:00"
         ],
         "y": [
          26.31,
          26.72
         ]
        },
        {
         "line": {
          "color": "rgb(253, 231, 37)",
          "width": 4
         },
         "mode": "lines",
         "showlegend": false,
         "type": "scatter",
         "x": [
          "2006-01-27T00:00:00",
          "2006-01-27T00:00:00"
         ],
         "y": [
          27.19,
          27.95
         ]
        },
        {
         "line": {
          "color": "rgb(116, 207, 84)",
          "width": 4
         },
         "mode": "lines",
         "showlegend": false,
         "type": "scatter",
         "x": [
          "2006-01-30T00:00:00",
          "2006-01-30T00:00:00"
         ],
         "y": [
          27.78,
          28.18
         ]
        },
        {
         "line": {
          "color": "rgb(76, 192, 108)",
          "width": 4
         },
         "mode": "lines",
         "showlegend": false,
         "type": "scatter",
         "x": [
          "2006-01-31T00:00:00",
          "2006-01-31T00:00:00"
         ],
         "y": [
          27.87,
          28.38
         ]
        },
        {
         "line": {
          "color": "rgb(38, 130, 142)",
          "width": 4
         },
         "mode": "lines",
         "showlegend": false,
         "type": "scatter",
         "x": [
          "2006-02-01T00:00:00",
          "2006-02-01T00:00:00"
         ],
         "y": [
          27.76,
          28.07
         ]
        },
        {
         "line": {
          "color": "rgb(57, 85, 139)",
          "width": 4
         },
         "mode": "lines",
         "showlegend": false,
         "type": "scatter",
         "x": [
          "2006-02-02T00:00:00",
          "2006-02-02T00:00:00"
         ],
         "y": [
          27.55,
          27.99
         ]
        },
        {
         "line": {
          "color": "rgb(33, 149, 139)",
          "width": 4
         },
         "mode": "lines",
         "showlegend": false,
         "type": "scatter",
         "x": [
          "2006-02-03T00:00:00",
          "2006-02-03T00:00:00"
         ],
         "y": [
          27.34,
          27.7
         ]
        },
        {
         "line": {
          "color": "rgb(49, 105, 142)",
          "width": 4
         },
         "mode": "lines",
         "showlegend": false,
         "type": "scatter",
         "x": [
          "2006-02-06T00:00:00",
          "2006-02-06T00:00:00"
         ],
         "y": [
          27.09,
          27.54
         ]
        },
        {
         "line": {
          "color": "rgb(35, 141, 140)",
          "width": 4
         },
         "mode": "lines",
         "showlegend": false,
         "type": "scatter",
         "x": [
          "2006-02-07T00:00:00",
          "2006-02-07T00:00:00"
         ],
         "y": [
          26.81,
          27.15
         ]
        },
        {
         "line": {
          "color": "rgb(63, 70, 136)",
          "width": 4
         },
         "mode": "lines",
         "showlegend": false,
         "type": "scatter",
         "x": [
          "2006-02-08T00:00:00",
          "2006-02-08T00:00:00"
         ],
         "y": [
          26.71,
          27.08
         ]
        },
        {
         "line": {
          "color": "rgb(61, 75, 137)",
          "width": 4
         },
         "mode": "lines",
         "showlegend": false,
         "type": "scatter",
         "x": [
          "2006-02-09T00:00:00",
          "2006-02-09T00:00:00"
         ],
         "y": [
          26.65,
          27.03
         ]
        },
        {
         "line": {
          "color": "rgb(62, 72, 136)",
          "width": 4
         },
         "mode": "lines",
         "showlegend": false,
         "type": "scatter",
         "x": [
          "2006-02-10T00:00:00",
          "2006-02-10T00:00:00"
         ],
         "y": [
          26.51,
          26.89
         ]
        },
        {
         "line": {
          "color": "rgb(70, 45, 123)",
          "width": 4
         },
         "mode": "lines",
         "showlegend": false,
         "type": "scatter",
         "x": [
          "2006-02-13T00:00:00",
          "2006-02-13T00:00:00"
         ],
         "y": [
          26.34,
          26.7
         ]
        },
        {
         "line": {
          "color": "rgb(51, 98, 141)",
          "width": 4
         },
         "mode": "lines",
         "showlegend": false,
         "type": "scatter",
         "x": [
          "2006-02-14T00:00:00",
          "2006-02-14T00:00:00"
         ],
         "y": [
          26.35,
          26.68
         ]
        },
        {
         "line": {
          "color": "rgb(45, 113, 142)",
          "width": 4
         },
         "mode": "lines",
         "showlegend": false,
         "type": "scatter",
         "x": [
          "2006-02-15T00:00:00",
          "2006-02-15T00:00:00"
         ],
         "y": [
          26.5,
          26.93
         ]
        },
        {
         "line": {
          "color": "rgb(66, 59, 130)",
          "width": 4
         },
         "mode": "lines",
         "showlegend": false,
         "type": "scatter",
         "x": [
          "2006-02-16T00:00:00",
          "2006-02-16T00:00:00"
         ],
         "y": [
          26.57,
          26.9
         ]
        },
        {
         "line": {
          "color": "rgb(69, 12, 94)",
          "width": 4
         },
         "mode": "lines",
         "showlegend": false,
         "type": "scatter",
         "x": [
          "2006-02-17T00:00:00",
          "2006-02-17T00:00:00"
         ],
         "y": [
          26.56,
          26.81
         ]
        },
        {
         "line": {
          "color": "rgb(65, 63, 132)",
          "width": 4
         },
         "mode": "lines",
         "showlegend": false,
         "type": "scatter",
         "x": [
          "2006-02-21T00:00:00",
          "2006-02-21T00:00:00"
         ],
         "y": [
          26.34,
          26.72
         ]
        },
        {
         "line": {
          "color": "rgb(70, 22, 104)",
          "width": 4
         },
         "mode": "lines",
         "showlegend": false,
         "type": "scatter",
         "x": [
          "2006-02-22T00:00:00",
          "2006-02-22T00:00:00"
         ],
         "y": [
          26.47,
          26.86
         ]
        },
        {
         "line": {
          "color": "rgb(68, 52, 126)",
          "width": 4
         },
         "mode": "lines",
         "showlegend": false,
         "type": "scatter",
         "x": [
          "2006-02-23T00:00:00",
          "2006-02-23T00:00:00"
         ],
         "y": [
          26.54,
          26.89
         ]
        },
        {
         "line": {
          "color": "rgb(71, 34, 114)",
          "width": 4
         },
         "mode": "lines",
         "showlegend": false,
         "type": "scatter",
         "x": [
          "2006-02-24T00:00:00",
          "2006-02-24T00:00:00"
         ],
         "y": [
          26.52,
          26.74
         ]
        },
        {
         "line": {
          "color": "rgb(63, 69, 135)",
          "width": 4
         },
         "mode": "lines",
         "showlegend": false,
         "type": "scatter",
         "x": [
          "2006-02-27T00:00:00",
          "2006-02-27T00:00:00"
         ],
         "y": [
          26.67,
          27.26
         ]
        },
        {
         "line": {
          "color": "rgb(42, 120, 142)",
          "width": 4
         },
         "mode": "lines",
         "showlegend": false,
         "type": "scatter",
         "x": [
          "2006-02-28T00:00:00",
          "2006-02-28T00:00:00"
         ],
         "y": [
          26.87,
          27.3
         ]
        },
        {
         "line": {
          "color": "rgb(61, 76, 137)",
          "width": 4
         },
         "mode": "lines",
         "showlegend": false,
         "type": "scatter",
         "x": [
          "2006-03-01T00:00:00",
          "2006-03-01T00:00:00"
         ],
         "y": [
          26.95,
          27.2
         ]
        },
        {
         "line": {
          "color": "rgb(69, 14, 96)",
          "width": 4
         },
         "mode": "lines",
         "showlegend": false,
         "type": "scatter",
         "x": [
          "2006-03-02T00:00:00",
          "2006-03-02T00:00:00"
         ],
         "y": [
          26.9,
          27.1
         ]
        },
        {
         "line": {
          "color": "rgb(72, 37, 117)",
          "width": 4
         },
         "mode": "lines",
         "showlegend": false,
         "type": "scatter",
         "x": [
          "2006-03-03T00:00:00",
          "2006-03-03T00:00:00"
         ],
         "y": [
          26.74,
          27.16
         ]
        },
        {
         "line": {
          "color": "rgb(61, 76, 137)",
          "width": 4
         },
         "mode": "lines",
         "showlegend": false,
         "type": "scatter",
         "x": [
          "2006-03-06T00:00:00",
          "2006-03-06T00:00:00"
         ],
         "y": [
          26.83,
          27.15
         ]
        },
        {
         "line": {
          "color": "rgb(63, 70, 135)",
          "width": 4
         },
         "mode": "lines",
         "showlegend": false,
         "type": "scatter",
         "x": [
          "2006-03-07T00:00:00",
          "2006-03-07T00:00:00"
         ],
         "y": [
          26.81,
          27.1
         ]
        },
        {
         "line": {
          "color": "rgb(53, 95, 141)",
          "width": 4
         },
         "mode": "lines",
         "showlegend": false,
         "type": "scatter",
         "x": [
          "2006-03-08T00:00:00",
          "2006-03-08T00:00:00"
         ],
         "y": [
          26.97,
          27.5
         ]
        },
        {
         "line": {
          "color": "rgb(72, 38, 118)",
          "width": 4
         },
         "mode": "lines",
         "showlegend": false,
         "type": "scatter",
         "x": [
          "2006-03-09T00:00:00",
          "2006-03-09T00:00:00"
         ],
         "y": [
          27,
          27.42
         ]
        },
        {
         "line": {
          "color": "rgb(69, 10, 93)",
          "width": 4
         },
         "mode": "lines",
         "showlegend": false,
         "type": "scatter",
         "x": [
          "2006-03-10T00:00:00",
          "2006-03-10T00:00:00"
         ],
         "y": [
          26.88,
          27.22
         ]
        },
        {
         "line": {
          "color": "rgb(68, 3, 86)",
          "width": 4
         },
         "mode": "lines",
         "showlegend": false,
         "type": "scatter",
         "x": [
          "2006-03-13T00:00:00",
          "2006-03-13T00:00:00"
         ],
         "y": [
          26.94,
          27.29
         ]
        },
        {
         "line": {
          "color": "rgb(68, 1, 84)",
          "width": 4
         },
         "mode": "lines",
         "showlegend": false,
         "type": "scatter",
         "x": [
          "2006-03-14T00:00:00",
          "2006-03-14T00:00:00"
         ],
         "y": [
          26.99,
          27.38
         ]
        },
        {
         "line": {
          "color": "rgb(54, 93, 140)",
          "width": 4
         },
         "mode": "lines",
         "showlegend": false,
         "type": "scatter",
         "x": [
          "2006-03-15T00:00:00",
          "2006-03-15T00:00:00"
         ],
         "y": [
          27.01,
          27.45
         ]
        },
        {
         "line": {
          "color": "gray",
          "dash": "dash",
          "width": 2
         },
         "mode": "lines",
         "name": "Open",
         "type": "scatter",
         "x": [
          "2006-01-03T00:00:00",
          "2006-01-04T00:00:00",
          "2006-01-05T00:00:00",
          "2006-01-06T00:00:00",
          "2006-01-09T00:00:00",
          "2006-01-10T00:00:00",
          "2006-01-11T00:00:00",
          "2006-01-12T00:00:00",
          "2006-01-13T00:00:00",
          "2006-01-17T00:00:00",
          "2006-01-18T00:00:00",
          "2006-01-19T00:00:00",
          "2006-01-20T00:00:00",
          "2006-01-23T00:00:00",
          "2006-01-24T00:00:00",
          "2006-01-25T00:00:00",
          "2006-01-26T00:00:00",
          "2006-01-27T00:00:00",
          "2006-01-30T00:00:00",
          "2006-01-31T00:00:00",
          "2006-02-01T00:00:00",
          "2006-02-02T00:00:00",
          "2006-02-03T00:00:00",
          "2006-02-06T00:00:00",
          "2006-02-07T00:00:00",
          "2006-02-08T00:00:00",
          "2006-02-09T00:00:00",
          "2006-02-10T00:00:00",
          "2006-02-13T00:00:00",
          "2006-02-14T00:00:00",
          "2006-02-15T00:00:00",
          "2006-02-16T00:00:00",
          "2006-02-17T00:00:00",
          "2006-02-21T00:00:00",
          "2006-02-22T00:00:00",
          "2006-02-23T00:00:00",
          "2006-02-24T00:00:00",
          "2006-02-27T00:00:00",
          "2006-02-28T00:00:00",
          "2006-03-01T00:00:00",
          "2006-03-02T00:00:00",
          "2006-03-03T00:00:00",
          "2006-03-06T00:00:00",
          "2006-03-07T00:00:00",
          "2006-03-08T00:00:00",
          "2006-03-09T00:00:00",
          "2006-03-10T00:00:00",
          "2006-03-13T00:00:00",
          "2006-03-14T00:00:00",
          "2006-03-15T00:00:00"
         ],
         "y": [
          26.25,
          26.77,
          26.96,
          26.89,
          26.93,
          26.65,
          27.01,
          27.25,
          27.03,
          26.9,
          26.74,
          26.87,
          27.01,
          26.41,
          26.34,
          26.41,
          26.56,
          27.23,
          27.82,
          27.91,
          27.96,
          27.97,
          27.48,
          27.51,
          26.95,
          27.01,
          26.96,
          26.62,
          26.63,
          26.41,
          26.6,
          26.85,
          26.67,
          26.72,
          26.53,
          26.73,
          26.59,
          26.75,
          26.95,
          26.98,
          27.02,
          26.81,
          26.92,
          26.9,
          26.99,
          27.27,
          27.06,
          27.18,
          27.04,
          27.2
         ]
        },
        {
         "line": {
          "color": "black",
          "width": 2
         },
         "mode": "lines+markers",
         "name": "Close",
         "type": "scatter",
         "x": [
          "2006-01-03T00:00:00",
          "2006-01-04T00:00:00",
          "2006-01-05T00:00:00",
          "2006-01-06T00:00:00",
          "2006-01-09T00:00:00",
          "2006-01-10T00:00:00",
          "2006-01-11T00:00:00",
          "2006-01-12T00:00:00",
          "2006-01-13T00:00:00",
          "2006-01-17T00:00:00",
          "2006-01-18T00:00:00",
          "2006-01-19T00:00:00",
          "2006-01-20T00:00:00",
          "2006-01-23T00:00:00",
          "2006-01-24T00:00:00",
          "2006-01-25T00:00:00",
          "2006-01-26T00:00:00",
          "2006-01-27T00:00:00",
          "2006-01-30T00:00:00",
          "2006-01-31T00:00:00",
          "2006-02-01T00:00:00",
          "2006-02-02T00:00:00",
          "2006-02-03T00:00:00",
          "2006-02-06T00:00:00",
          "2006-02-07T00:00:00",
          "2006-02-08T00:00:00",
          "2006-02-09T00:00:00",
          "2006-02-10T00:00:00",
          "2006-02-13T00:00:00",
          "2006-02-14T00:00:00",
          "2006-02-15T00:00:00",
          "2006-02-16T00:00:00",
          "2006-02-17T00:00:00",
          "2006-02-21T00:00:00",
          "2006-02-22T00:00:00",
          "2006-02-23T00:00:00",
          "2006-02-24T00:00:00",
          "2006-02-27T00:00:00",
          "2006-02-28T00:00:00",
          "2006-03-01T00:00:00",
          "2006-03-02T00:00:00",
          "2006-03-03T00:00:00",
          "2006-03-06T00:00:00",
          "2006-03-07T00:00:00",
          "2006-03-08T00:00:00",
          "2006-03-09T00:00:00",
          "2006-03-10T00:00:00",
          "2006-03-13T00:00:00",
          "2006-03-14T00:00:00",
          "2006-03-15T00:00:00"
         ],
         "y": [
          26.84,
          26.97,
          26.99,
          26.91,
          26.86,
          27,
          27.29,
          27.14,
          27.19,
          26.99,
          26.83,
          27.02,
          26.41,
          26.35,
          26.28,
          26.4,
          26.5,
          27.79,
          28,
          28.15,
          28.04,
          27.68,
          27.54,
          27.17,
          26.94,
          26.91,
          26.66,
          26.69,
          26.39,
          26.65,
          26.88,
          26.81,
          26.7,
          26.54,
          26.72,
          26.66,
          26.63,
          27.05,
          26.87,
          27.14,
          26.97,
          26.93,
          26.91,
          27.06,
          27.25,
          27,
          27.17,
          27.11,
          27.23,
          27.36
         ]
        },
        {
         "hoverinfo": "none",
         "marker": {
          "cmax": 18.71726205544985,
          "cmin": 17.504350011278188,
          "colorbar": {
           "len": 0.8,
           "outlinewidth": 0,
           "thickness": 15,
           "ticks": "outside",
           "title": {
            "text": "log(1 + Volume)"
           },
           "x": 1.08,
           "xanchor": "left",
           "y": 0.5,
           "yanchor": "middle"
          },
          "colorscale": [
           [
            0,
            "#440154"
           ],
           [
            0.1111111111111111,
            "#482878"
           ],
           [
            0.2222222222222222,
            "#3e4989"
           ],
           [
            0.3333333333333333,
            "#31688e"
           ],
           [
            0.4444444444444444,
            "#26828e"
           ],
           [
            0.5555555555555556,
            "#1f9e89"
           ],
           [
            0.6666666666666666,
            "#35b779"
           ],
           [
            0.7777777777777778,
            "#6ece58"
           ],
           [
            0.8888888888888888,
            "#b5de2b"
           ],
           [
            1,
            "#fde725"
           ]
          ],
          "showscale": true
         },
         "mode": "markers",
         "showlegend": false,
         "type": "scatter",
         "x": [
          null
         ],
         "y": [
          null
         ]
        }
       ],
       "layout": {
        "font": {
         "size": 13
        },
        "legend": {
         "orientation": "h",
         "x": 0,
         "xanchor": "left",
         "y": 1.02,
         "yanchor": "bottom"
        },
        "margin": {
         "r": 120
        },
        "template": {
         "data": {
          "bar": [
           {
            "error_x": {
             "color": "#2a3f5f"
            },
            "error_y": {
             "color": "#2a3f5f"
            },
            "marker": {
             "line": {
              "color": "white",
              "width": 0.5
             },
             "pattern": {
              "fillmode": "overlay",
              "size": 10,
              "solidity": 0.2
             }
            },
            "type": "bar"
           }
          ],
          "barpolar": [
           {
            "marker": {
             "line": {
              "color": "white",
              "width": 0.5
             },
             "pattern": {
              "fillmode": "overlay",
              "size": 10,
              "solidity": 0.2
             }
            },
            "type": "barpolar"
           }
          ],
          "carpet": [
           {
            "aaxis": {
             "endlinecolor": "#2a3f5f",
             "gridcolor": "#C8D4E3",
             "linecolor": "#C8D4E3",
             "minorgridcolor": "#C8D4E3",
             "startlinecolor": "#2a3f5f"
            },
            "baxis": {
             "endlinecolor": "#2a3f5f",
             "gridcolor": "#C8D4E3",
             "linecolor": "#C8D4E3",
             "minorgridcolor": "#C8D4E3",
             "startlinecolor": "#2a3f5f"
            },
            "type": "carpet"
           }
          ],
          "choropleth": [
           {
            "colorbar": {
             "outlinewidth": 0,
             "ticks": ""
            },
            "type": "choropleth"
           }
          ],
          "contour": [
           {
            "colorbar": {
             "outlinewidth": 0,
             "ticks": ""
            },
            "colorscale": [
             [
              0,
              "#0d0887"
             ],
             [
              0.1111111111111111,
              "#46039f"
             ],
             [
              0.2222222222222222,
              "#7201a8"
             ],
             [
              0.3333333333333333,
              "#9c179e"
             ],
             [
              0.4444444444444444,
              "#bd3786"
             ],
             [
              0.5555555555555556,
              "#d8576b"
             ],
             [
              0.6666666666666666,
              "#ed7953"
             ],
             [
              0.7777777777777778,
              "#fb9f3a"
             ],
             [
              0.8888888888888888,
              "#fdca26"
             ],
             [
              1,
              "#f0f921"
             ]
            ],
            "type": "contour"
           }
          ],
          "contourcarpet": [
           {
            "colorbar": {
             "outlinewidth": 0,
             "ticks": ""
            },
            "type": "contourcarpet"
           }
          ],
          "heatmap": [
           {
            "colorbar": {
             "outlinewidth": 0,
             "ticks": ""
            },
            "colorscale": [
             [
              0,
              "#0d0887"
             ],
             [
              0.1111111111111111,
              "#46039f"
             ],
             [
              0.2222222222222222,
              "#7201a8"
             ],
             [
              0.3333333333333333,
              "#9c179e"
             ],
             [
              0.4444444444444444,
              "#bd3786"
             ],
             [
              0.5555555555555556,
              "#d8576b"
             ],
             [
              0.6666666666666666,
              "#ed7953"
             ],
             [
              0.7777777777777778,
              "#fb9f3a"
             ],
             [
              0.8888888888888888,
              "#fdca26"
             ],
             [
              1,
              "#f0f921"
             ]
            ],
            "type": "heatmap"
           }
          ],
          "heatmapgl": [
           {
            "colorbar": {
             "outlinewidth": 0,
             "ticks": ""
            },
            "colorscale": [
             [
              0,
              "#0d0887"
             ],
             [
              0.1111111111111111,
              "#46039f"
             ],
             [
              0.2222222222222222,
              "#7201a8"
             ],
             [
              0.3333333333333333,
              "#9c179e"
             ],
             [
              0.4444444444444444,
              "#bd3786"
             ],
             [
              0.5555555555555556,
              "#d8576b"
             ],
             [
              0.6666666666666666,
              "#ed7953"
             ],
             [
              0.7777777777777778,
              "#fb9f3a"
             ],
             [
              0.8888888888888888,
              "#fdca26"
             ],
             [
              1,
              "#f0f921"
             ]
            ],
            "type": "heatmapgl"
           }
          ],
          "histogram": [
           {
            "marker": {
             "pattern": {
              "fillmode": "overlay",
              "size": 10,
              "solidity": 0.2
             }
            },
            "type": "histogram"
           }
          ],
          "histogram2d": [
           {
            "colorbar": {
             "outlinewidth": 0,
             "ticks": ""
            },
            "colorscale": [
             [
              0,
              "#0d0887"
             ],
             [
              0.1111111111111111,
              "#46039f"
             ],
             [
              0.2222222222222222,
              "#7201a8"
             ],
             [
              0.3333333333333333,
              "#9c179e"
             ],
             [
              0.4444444444444444,
              "#bd3786"
             ],
             [
              0.5555555555555556,
              "#d8576b"
             ],
             [
              0.6666666666666666,
              "#ed7953"
             ],
             [
              0.7777777777777778,
              "#fb9f3a"
             ],
             [
              0.8888888888888888,
              "#fdca26"
             ],
             [
              1,
              "#f0f921"
             ]
            ],
            "type": "histogram2d"
           }
          ],
          "histogram2dcontour": [
           {
            "colorbar": {
             "outlinewidth": 0,
             "ticks": ""
            },
            "colorscale": [
             [
              0,
              "#0d0887"
             ],
             [
              0.1111111111111111,
              "#46039f"
             ],
             [
              0.2222222222222222,
              "#7201a8"
             ],
             [
              0.3333333333333333,
              "#9c179e"
             ],
             [
              0.4444444444444444,
              "#bd3786"
             ],
             [
              0.5555555555555556,
              "#d8576b"
             ],
             [
              0.6666666666666666,
              "#ed7953"
             ],
             [
              0.7777777777777778,
              "#fb9f3a"
             ],
             [
              0.8888888888888888,
              "#fdca26"
             ],
             [
              1,
              "#f0f921"
             ]
            ],
            "type": "histogram2dcontour"
           }
          ],
          "mesh3d": [
           {
            "colorbar": {
             "outlinewidth": 0,
             "ticks": ""
            },
            "type": "mesh3d"
           }
          ],
          "parcoords": [
           {
            "line": {
             "colorbar": {
              "outlinewidth": 0,
              "ticks": ""
             }
            },
            "type": "parcoords"
           }
          ],
          "pie": [
           {
            "automargin": true,
            "type": "pie"
           }
          ],
          "scatter": [
           {
            "fillpattern": {
             "fillmode": "overlay",
             "size": 10,
             "solidity": 0.2
            },
            "type": "scatter"
           }
          ],
          "scatter3d": [
           {
            "line": {
             "colorbar": {
              "outlinewidth": 0,
              "ticks": ""
             }
            },
            "marker": {
             "colorbar": {
              "outlinewidth": 0,
              "ticks": ""
             }
            },
            "type": "scatter3d"
           }
          ],
          "scattercarpet": [
           {
            "marker": {
             "colorbar": {
              "outlinewidth": 0,
              "ticks": ""
             }
            },
            "type": "scattercarpet"
           }
          ],
          "scattergeo": [
           {
            "marker": {
             "colorbar": {
              "outlinewidth": 0,
              "ticks": ""
             }
            },
            "type": "scattergeo"
           }
          ],
          "scattergl": [
           {
            "marker": {
             "colorbar": {
              "outlinewidth": 0,
              "ticks": ""
             }
            },
            "type": "scattergl"
           }
          ],
          "scattermapbox": [
           {
            "marker": {
             "colorbar": {
              "outlinewidth": 0,
              "ticks": ""
             }
            },
            "type": "scattermapbox"
           }
          ],
          "scatterpolar": [
           {
            "marker": {
             "colorbar": {
              "outlinewidth": 0,
              "ticks": ""
             }
            },
            "type": "scatterpolar"
           }
          ],
          "scatterpolargl": [
           {
            "marker": {
             "colorbar": {
              "outlinewidth": 0,
              "ticks": ""
             }
            },
            "type": "scatterpolargl"
           }
          ],
          "scatterternary": [
           {
            "marker": {
             "colorbar": {
              "outlinewidth": 0,
              "ticks": ""
             }
            },
            "type": "scatterternary"
           }
          ],
          "surface": [
           {
            "colorbar": {
             "outlinewidth": 0,
             "ticks": ""
            },
            "colorscale": [
             [
              0,
              "#0d0887"
             ],
             [
              0.1111111111111111,
              "#46039f"
             ],
             [
              0.2222222222222222,
              "#7201a8"
             ],
             [
              0.3333333333333333,
              "#9c179e"
             ],
             [
              0.4444444444444444,
              "#bd3786"
             ],
             [
              0.5555555555555556,
              "#d8576b"
             ],
             [
              0.6666666666666666,
              "#ed7953"
             ],
             [
              0.7777777777777778,
              "#fb9f3a"
             ],
             [
              0.8888888888888888,
              "#fdca26"
             ],
             [
              1,
              "#f0f921"
             ]
            ],
            "type": "surface"
           }
          ],
          "table": [
           {
            "cells": {
             "fill": {
              "color": "#EBF0F8"
             },
             "line": {
              "color": "white"
             }
            },
            "header": {
             "fill": {
              "color": "#C8D4E3"
             },
             "line": {
              "color": "white"
             }
            },
            "type": "table"
           }
          ]
         },
         "layout": {
          "annotationdefaults": {
           "arrowcolor": "#2a3f5f",
           "arrowhead": 0,
           "arrowwidth": 1
          },
          "autotypenumbers": "strict",
          "coloraxis": {
           "colorbar": {
            "outlinewidth": 0,
            "ticks": ""
           }
          },
          "colorscale": {
           "diverging": [
            [
             0,
             "#8e0152"
            ],
            [
             0.1,
             "#c51b7d"
            ],
            [
             0.2,
             "#de77ae"
            ],
            [
             0.3,
             "#f1b6da"
            ],
            [
             0.4,
             "#fde0ef"
            ],
            [
             0.5,
             "#f7f7f7"
            ],
            [
             0.6,
             "#e6f5d0"
            ],
            [
             0.7,
             "#b8e186"
            ],
            [
             0.8,
             "#7fbc41"
            ],
            [
             0.9,
             "#4d9221"
            ],
            [
             1,
             "#276419"
            ]
           ],
           "sequential": [
            [
             0,
             "#0d0887"
            ],
            [
             0.1111111111111111,
             "#46039f"
            ],
            [
             0.2222222222222222,
             "#7201a8"
            ],
            [
             0.3333333333333333,
             "#9c179e"
            ],
            [
             0.4444444444444444,
             "#bd3786"
            ],
            [
             0.5555555555555556,
             "#d8576b"
            ],
            [
             0.6666666666666666,
             "#ed7953"
            ],
            [
             0.7777777777777778,
             "#fb9f3a"
            ],
            [
             0.8888888888888888,
             "#fdca26"
            ],
            [
             1,
             "#f0f921"
            ]
           ],
           "sequentialminus": [
            [
             0,
             "#0d0887"
            ],
            [
             0.1111111111111111,
             "#46039f"
            ],
            [
             0.2222222222222222,
             "#7201a8"
            ],
            [
             0.3333333333333333,
             "#9c179e"
            ],
            [
             0.4444444444444444,
             "#bd3786"
            ],
            [
             0.5555555555555556,
             "#d8576b"
            ],
            [
             0.6666666666666666,
             "#ed7953"
            ],
            [
             0.7777777777777778,
             "#fb9f3a"
            ],
            [
             0.8888888888888888,
             "#fdca26"
            ],
            [
             1,
             "#f0f921"
            ]
           ]
          },
          "colorway": [
           "#636efa",
           "#EF553B",
           "#00cc96",
           "#ab63fa",
           "#FFA15A",
           "#19d3f3",
           "#FF6692",
           "#B6E880",
           "#FF97FF",
           "#FECB52"
          ],
          "font": {
           "color": "#2a3f5f"
          },
          "geo": {
           "bgcolor": "white",
           "lakecolor": "white",
           "landcolor": "white",
           "showlakes": true,
           "showland": true,
           "subunitcolor": "#C8D4E3"
          },
          "hoverlabel": {
           "align": "left"
          },
          "hovermode": "closest",
          "mapbox": {
           "style": "light"
          },
          "paper_bgcolor": "white",
          "plot_bgcolor": "white",
          "polar": {
           "angularaxis": {
            "gridcolor": "#EBF0F8",
            "linecolor": "#EBF0F8",
            "ticks": ""
           },
           "bgcolor": "white",
           "radialaxis": {
            "gridcolor": "#EBF0F8",
            "linecolor": "#EBF0F8",
            "ticks": ""
           }
          },
          "scene": {
           "xaxis": {
            "backgroundcolor": "white",
            "gridcolor": "#DFE8F3",
            "gridwidth": 2,
            "linecolor": "#EBF0F8",
            "showbackground": true,
            "ticks": "",
            "zerolinecolor": "#EBF0F8"
           },
           "yaxis": {
            "backgroundcolor": "white",
            "gridcolor": "#DFE8F3",
            "gridwidth": 2,
            "linecolor": "#EBF0F8",
            "showbackground": true,
            "ticks": "",
            "zerolinecolor": "#EBF0F8"
           },
           "zaxis": {
            "backgroundcolor": "white",
            "gridcolor": "#DFE8F3",
            "gridwidth": 2,
            "linecolor": "#EBF0F8",
            "showbackground": true,
            "ticks": "",
            "zerolinecolor": "#EBF0F8"
           }
          },
          "shapedefaults": {
           "line": {
            "color": "#2a3f5f"
           }
          },
          "ternary": {
           "aaxis": {
            "gridcolor": "#DFE8F3",
            "linecolor": "#A2B1C6",
            "ticks": ""
           },
           "baxis": {
            "gridcolor": "#DFE8F3",
            "linecolor": "#A2B1C6",
            "ticks": ""
           },
           "bgcolor": "white",
           "caxis": {
            "gridcolor": "#DFE8F3",
            "linecolor": "#A2B1C6",
            "ticks": ""
           }
          },
          "title": {
           "x": 0.05
          },
          "xaxis": {
           "automargin": true,
           "gridcolor": "#EBF0F8",
           "linecolor": "#EBF0F8",
           "ticks": "",
           "title": {
            "standoff": 15
           },
           "zerolinecolor": "#EBF0F8",
           "zerolinewidth": 2
          },
          "yaxis": {
           "automargin": true,
           "gridcolor": "#EBF0F8",
           "linecolor": "#EBF0F8",
           "ticks": "",
           "title": {
            "standoff": 15
           },
           "zerolinecolor": "#EBF0F8",
           "zerolinewidth": 2
          }
         }
        },
        "title": {
         "text": "Detail view"
        },
        "xaxis": {
         "title": {
          "text": "Date"
         }
        },
        "yaxis": {
         "title": {
          "text": "Price"
         }
        }
       }
      }
     },
     "metadata": {},
     "output_type": "display_data"
    },
    {
     "data": {
      "application/vnd.plotly.v1+json": {
       "config": {
        "plotlyServerURL": "https://plot.ly"
       },
       "data": [
        {
         "line": {
          "color": "rgb(48, 107, 142)",
          "width": 4
         },
         "mode": "lines",
         "showlegend": false,
         "type": "scatter",
         "x": [
          "2006-05-08T00:00:00",
          "2006-05-08T00:00:00"
         ],
         "y": [
          23.51,
          25
         ]
        },
        {
         "line": {
          "color": "rgb(78, 193, 107)",
          "width": 4
         },
         "mode": "lines",
         "showlegend": false,
         "type": "scatter",
         "x": [
          "2006-07-21T00:00:00",
          "2006-07-21T00:00:00"
         ],
         "y": [
          23,
          24.15
         ]
        },
        {
         "line": {
          "color": "rgb(54, 93, 140)",
          "width": 4
         },
         "mode": "lines",
         "showlegend": false,
         "type": "scatter",
         "x": [
          "2007-03-08T00:00:00",
          "2007-03-08T00:00:00"
         ],
         "y": [
          26.6,
          27.85
         ]
        },
        {
         "line": {
          "color": "rgb(44, 116, 142)",
          "width": 4
         },
         "mode": "lines",
         "showlegend": false,
         "type": "scatter",
         "x": [
          "2007-07-26T00:00:00",
          "2007-07-26T00:00:00"
         ],
         "y": [
          29.51,
          30.53
         ]
        },
        {
         "line": {
          "color": "rgb(37, 165, 133)",
          "width": 4
         },
         "mode": "lines",
         "showlegend": false,
         "type": "scatter",
         "x": [
          "2007-11-08T00:00:00",
          "2007-11-08T00:00:00"
         ],
         "y": [
          34.4,
          35.9
         ]
        },
        {
         "line": {
          "color": "rgb(224, 227, 39)",
          "width": 4
         },
         "mode": "lines",
         "showlegend": false,
         "type": "scatter",
         "x": [
          "2008-02-01T00:00:00",
          "2008-02-01T00:00:00"
         ],
         "y": [
          30.25,
          33.25
         ]
        },
        {
         "line": {
          "color": "rgb(38, 131, 142)",
          "width": 4
         },
         "mode": "lines",
         "showlegend": false,
         "type": "scatter",
         "x": [
          "2008-07-01T00:00:00",
          "2008-07-01T00:00:00"
         ],
         "y": [
          23.19,
          27.38
         ]
        },
        {
         "line": {
          "color": "rgb(57, 185, 119)",
          "width": 4
         },
         "mode": "lines",
         "showlegend": false,
         "type": "scatter",
         "x": [
          "2008-10-16T00:00:00",
          "2008-10-16T00:00:00"
         ],
         "y": [
          21.31,
          24.19
         ]
        },
        {
         "line": {
          "color": "rgb(68, 189, 112)",
          "width": 4
         },
         "mode": "lines",
         "showlegend": false,
         "type": "scatter",
         "x": [
          "2009-04-24T00:00:00",
          "2009-04-24T00:00:00"
         ],
         "y": [
          19.5,
          21.2
         ]
        },
        {
         "line": {
          "color": "rgb(214, 226, 40)",
          "width": 4
         },
         "mode": "lines",
         "showlegend": false,
         "type": "scatter",
         "x": [
          "2009-10-23T00:00:00",
          "2009-10-23T00:00:00"
         ],
         "y": [
          27.88,
          29.35
         ]
        },
        {
         "line": {
          "color": "rgb(102, 203, 93)",
          "width": 4
         },
         "mode": "lines",
         "showlegend": false,
         "type": "scatter",
         "x": [
          "2010-01-29T00:00:00",
          "2010-01-29T00:00:00"
         ],
         "y": [
          27.66,
          29.92
         ]
        },
        {
         "line": {
          "color": "rgb(79, 194, 106)",
          "width": 4
         },
         "mode": "lines",
         "showlegend": false,
         "type": "scatter",
         "x": [
          "2010-05-26T00:00:00",
          "2010-05-26T00:00:00"
         ],
         "y": [
          24.56,
          26.6
         ]
        },
        {
         "line": {
          "color": "rgb(42, 171, 129)",
          "width": 4
         },
         "mode": "lines",
         "showlegend": false,
         "type": "scatter",
         "x": [
          "2011-01-28T00:00:00",
          "2011-01-28T00:00:00"
         ],
         "y": [
          27.45,
          28.93
         ]
        },
        {
         "line": {
          "color": "rgb(253, 231, 37)",
          "width": 4
         },
         "mode": "lines",
         "showlegend": false,
         "type": "scatter",
         "x": [
          "2011-04-29T00:00:00",
          "2011-04-29T00:00:00"
         ],
         "y": [
          25.36,
          26.64
         ]
        },
        {
         "line": {
          "color": "rgb(32, 159, 137)",
          "width": 4
         },
         "mode": "lines",
         "showlegend": false,
         "type": "scatter",
         "x": [
          "2011-08-09T00:00:00",
          "2011-08-09T00:00:00"
         ],
         "y": [
          24.03,
          25.62
         ]
        },
        {
         "line": {
          "color": "rgb(40, 125, 142)",
          "width": 4
         },
         "mode": "lines",
         "showlegend": false,
         "type": "scatter",
         "x": [
          "2012-02-16T00:00:00",
          "2012-02-16T00:00:00"
         ],
         "y": [
          30.3,
          31.55
         ]
        },
        {
         "line": {
          "color": "rgb(72, 37, 117)",
          "width": 4
         },
         "mode": "lines",
         "showlegend": false,
         "type": "scatter",
         "x": [
          "2012-06-21T00:00:00",
          "2012-06-21T00:00:00"
         ],
         "y": [
          30.06,
          31.14
         ]
        },
        {
         "line": {
          "color": "rgb(46, 110, 142)",
          "width": 4
         },
         "mode": "lines",
         "showlegend": false,
         "type": "scatter",
         "x": [
          "2012-10-22T00:00:00",
          "2012-10-22T00:00:00"
         ],
         "y": [
          27.83,
          28.83
         ]
        },
        {
         "line": {
          "color": "rgb(176, 221, 46)",
          "width": 4
         },
         "mode": "lines",
         "showlegend": false,
         "type": "scatter",
         "x": [
          "2013-07-19T00:00:00",
          "2013-07-19T00:00:00"
         ],
         "y": [
          31.02,
          32.67
         ]
        },
        {
         "line": {
          "color": "rgb(33, 149, 139)",
          "width": 4
         },
         "mode": "lines",
         "showlegend": false,
         "type": "scatter",
         "x": [
          "2013-12-05T00:00:00",
          "2013-12-05T00:00:00"
         ],
         "y": [
          37.18,
          38.88
         ]
        },
        {
         "line": {
          "color": "rgb(70, 46, 123)",
          "width": 4
         },
         "mode": "lines",
         "showlegend": false,
         "type": "scatter",
         "x": [
          "2014-04-04T00:00:00",
          "2014-04-04T00:00:00"
         ],
         "y": [
          39.64,
          41.39
         ]
        },
        {
         "line": {
          "color": "rgb(61, 75, 137)",
          "width": 4
         },
         "mode": "lines",
         "showlegend": false,
         "type": "scatter",
         "x": [
          "2014-07-16T00:00:00",
          "2014-07-16T00:00:00"
         ],
         "y": [
          42.48,
          44.31
         ]
        },
        {
         "line": {
          "color": "rgb(70, 47, 124)",
          "width": 4
         },
         "mode": "lines",
         "showlegend": false,
         "type": "scatter",
         "x": [
          "2014-10-10T00:00:00",
          "2014-10-10T00:00:00"
         ],
         "y": [
          43.95,
          46.12
         ]
        },
        {
         "line": {
          "color": "rgb(35, 162, 134)",
          "width": 4
         },
         "mode": "lines",
         "showlegend": false,
         "type": "scatter",
         "x": [
          "2015-04-24T00:00:00",
          "2015-04-24T00:00:00"
         ],
         "y": [
          45.65,
          48.14
         ]
        },
        {
         "line": {
          "color": "rgb(44, 116, 142)",
          "width": 4
         },
         "mode": "lines",
         "showlegend": false,
         "type": "scatter",
         "x": [
          "2015-08-24T00:00:00",
          "2015-08-24T00:00:00"
         ],
         "y": [
          39.72,
          43.31
         ]
        },
        {
         "line": {
          "color": "rgb(59, 81, 138)",
          "width": 4
         },
         "mode": "lines",
         "showlegend": false,
         "type": "scatter",
         "x": [
          "2016-01-13T00:00:00",
          "2016-01-13T00:00:00"
         ],
         "y": [
          51.3,
          54.07
         ]
        },
        {
         "line": {
          "color": "rgb(46, 110, 142)",
          "width": 4
         },
         "mode": "lines",
         "showlegend": false,
         "type": "scatter",
         "x": [
          "2016-06-13T00:00:00",
          "2016-06-13T00:00:00"
         ],
         "y": [
          49.06,
          50.72
         ]
        },
        {
         "line": {
          "color": "rgb(65, 62, 132)",
          "width": 4
         },
         "mode": "lines",
         "showlegend": false,
         "type": "scatter",
         "x": [
          "2016-11-10T00:00:00",
          "2016-11-10T00:00:00"
         ],
         "y": [
          57.63,
          60.49
         ]
        },
        {
         "line": {
          "color": "rgb(72, 39, 119)",
          "width": 4
         },
         "mode": "lines",
         "showlegend": false,
         "type": "scatter",
         "x": [
          "2017-06-09T00:00:00",
          "2017-06-09T00:00:00"
         ],
         "y": [
          68.59,
          72.08
         ]
        },
        {
         "line": {
          "color": "rgb(55, 90, 140)",
          "width": 4
         },
         "mode": "lines",
         "showlegend": false,
         "type": "scatter",
         "x": [
          "2017-10-27T00:00:00",
          "2017-10-27T00:00:00"
         ],
         "y": [
          83.61,
          86.2
         ]
        },
        {
         "line": {
          "color": "rgb(68, 1, 84)",
          "width": 4
         },
         "mode": "lines",
         "showlegend": false,
         "type": "scatter",
         "x": [
          "2017-12-04T00:00:00",
          "2017-12-04T00:00:00"
         ],
         "y": [
          80.7,
          84.43
         ]
        },
        {
         "line": {
          "color": "gray",
          "dash": "dash",
          "width": 2
         },
         "mode": "lines",
         "name": "Open",
         "type": "scatter",
         "x": [
          "2006-05-08T00:00:00",
          "2006-07-21T00:00:00",
          "2007-03-08T00:00:00",
          "2007-07-26T00:00:00",
          "2007-11-08T00:00:00",
          "2008-02-01T00:00:00",
          "2008-07-01T00:00:00",
          "2008-10-16T00:00:00",
          "2009-04-24T00:00:00",
          "2009-10-23T00:00:00",
          "2010-01-29T00:00:00",
          "2010-05-26T00:00:00",
          "2011-01-28T00:00:00",
          "2011-04-29T00:00:00",
          "2011-08-09T00:00:00",
          "2012-02-16T00:00:00",
          "2012-06-21T00:00:00",
          "2012-10-22T00:00:00",
          "2013-07-19T00:00:00",
          "2013-12-05T00:00:00",
          "2014-04-04T00:00:00",
          "2014-07-16T00:00:00",
          "2014-10-10T00:00:00",
          "2015-04-24T00:00:00",
          "2015-08-24T00:00:00",
          "2016-01-13T00:00:00",
          "2016-06-13T00:00:00",
          "2016-11-10T00:00:00",
          "2017-06-09T00:00:00",
          "2017-10-27T00:00:00",
          "2017-12-04T00:00:00"
         ],
         "y": [
          23.85,
          24.08,
          27.72,
          30.24,
          35.6,
          31.06,
          27.26,
          22.94,
          19.82,
          29.2,
          29.9,
          26.23,
          28.9,
          26.55,
          24.71,
          30.31,
          30.96,
          28.73,
          32.4,
          38.85,
          41.25,
          42.51,
          45.6,
          45.66,
          40.45,
          53.8,
          49.58,
          60.48,
          72.04,
          84.37,
          84.42
         ]
        },
        {
         "line": {
          "color": "black",
          "width": 2
         },
         "mode": "lines+markers",
         "name": "Close",
         "type": "scatter",
         "x": [
          "2006-05-08T00:00:00",
          "2006-07-21T00:00:00",
          "2007-03-08T00:00:00",
          "2007-07-26T00:00:00",
          "2007-11-08T00:00:00",
          "2008-02-01T00:00:00",
          "2008-07-01T00:00:00",
          "2008-10-16T00:00:00",
          "2009-04-24T00:00:00",
          "2009-10-23T00:00:00",
          "2010-01-29T00:00:00",
          "2010-05-26T00:00:00",
          "2011-01-28T00:00:00",
          "2011-04-29T00:00:00",
          "2011-08-09T00:00:00",
          "2012-02-16T00:00:00",
          "2012-06-21T00:00:00",
          "2012-10-22T00:00:00",
          "2013-07-19T00:00:00",
          "2013-12-05T00:00:00",
          "2014-04-04T00:00:00",
          "2014-07-16T00:00:00",
          "2014-10-10T00:00:00",
          "2015-04-24T00:00:00",
          "2015-08-24T00:00:00",
          "2016-01-13T00:00:00",
          "2016-06-13T00:00:00",
          "2016-11-10T00:00:00",
          "2017-06-09T00:00:00",
          "2017-10-27T00:00:00",
          "2017-12-04T00:00:00"
         ],
         "y": [
          23.73,
          23.87,
          27.32,
          29.98,
          34.74,
          30.45,
          26.87,
          24.19,
          20.91,
          28.02,
          28.18,
          25.01,
          27.75,
          25.92,
          25.58,
          31.28,
          30.14,
          28,
          31.4,
          38,
          39.87,
          44.08,
          44.03,
          47.87,
          41.68,
          51.64,
          50.14,
          58.7,
          70.32,
          83.81,
          81.08
         ]
        },
        {
         "hoverinfo": "none",
         "marker": {
          "cmax": 19.581697569056484,
          "cmin": 17.481502095668617,
          "colorbar": {
           "len": 0.8,
           "outlinewidth": 0,
           "thickness": 15,
           "ticks": "outside",
           "title": {
            "text": "log(1 + Volume)"
           },
           "x": 1.08,
           "xanchor": "left",
           "y": 0.5,
           "yanchor": "middle"
          },
          "colorscale": [
           [
            0,
            "#440154"
           ],
           [
            0.1111111111111111,
            "#482878"
           ],
           [
            0.2222222222222222,
            "#3e4989"
           ],
           [
            0.3333333333333333,
            "#31688e"
           ],
           [
            0.4444444444444444,
            "#26828e"
           ],
           [
            0.5555555555555556,
            "#1f9e89"
           ],
           [
            0.6666666666666666,
            "#35b779"
           ],
           [
            0.7777777777777778,
            "#6ece58"
           ],
           [
            0.8888888888888888,
            "#b5de2b"
           ],
           [
            1,
            "#fde725"
           ]
          ],
          "showscale": true
         },
         "mode": "markers",
         "showlegend": false,
         "type": "scatter",
         "x": [
          null
         ],
         "y": [
          null
         ]
        }
       ],
       "layout": {
        "font": {
         "size": 13
        },
        "legend": {
         "orientation": "h",
         "x": 0,
         "xanchor": "left",
         "y": 1.02,
         "yanchor": "bottom"
        },
        "margin": {
         "r": 120
        },
        "template": {
         "data": {
          "bar": [
           {
            "error_x": {
             "color": "#2a3f5f"
            },
            "error_y": {
             "color": "#2a3f5f"
            },
            "marker": {
             "line": {
              "color": "white",
              "width": 0.5
             },
             "pattern": {
              "fillmode": "overlay",
              "size": 10,
              "solidity": 0.2
             }
            },
            "type": "bar"
           }
          ],
          "barpolar": [
           {
            "marker": {
             "line": {
              "color": "white",
              "width": 0.5
             },
             "pattern": {
              "fillmode": "overlay",
              "size": 10,
              "solidity": 0.2
             }
            },
            "type": "barpolar"
           }
          ],
          "carpet": [
           {
            "aaxis": {
             "endlinecolor": "#2a3f5f",
             "gridcolor": "#C8D4E3",
             "linecolor": "#C8D4E3",
             "minorgridcolor": "#C8D4E3",
             "startlinecolor": "#2a3f5f"
            },
            "baxis": {
             "endlinecolor": "#2a3f5f",
             "gridcolor": "#C8D4E3",
             "linecolor": "#C8D4E3",
             "minorgridcolor": "#C8D4E3",
             "startlinecolor": "#2a3f5f"
            },
            "type": "carpet"
           }
          ],
          "choropleth": [
           {
            "colorbar": {
             "outlinewidth": 0,
             "ticks": ""
            },
            "type": "choropleth"
           }
          ],
          "contour": [
           {
            "colorbar": {
             "outlinewidth": 0,
             "ticks": ""
            },
            "colorscale": [
             [
              0,
              "#0d0887"
             ],
             [
              0.1111111111111111,
              "#46039f"
             ],
             [
              0.2222222222222222,
              "#7201a8"
             ],
             [
              0.3333333333333333,
              "#9c179e"
             ],
             [
              0.4444444444444444,
              "#bd3786"
             ],
             [
              0.5555555555555556,
              "#d8576b"
             ],
             [
              0.6666666666666666,
              "#ed7953"
             ],
             [
              0.7777777777777778,
              "#fb9f3a"
             ],
             [
              0.8888888888888888,
              "#fdca26"
             ],
             [
              1,
              "#f0f921"
             ]
            ],
            "type": "contour"
           }
          ],
          "contourcarpet": [
           {
            "colorbar": {
             "outlinewidth": 0,
             "ticks": ""
            },
            "type": "contourcarpet"
           }
          ],
          "heatmap": [
           {
            "colorbar": {
             "outlinewidth": 0,
             "ticks": ""
            },
            "colorscale": [
             [
              0,
              "#0d0887"
             ],
             [
              0.1111111111111111,
              "#46039f"
             ],
             [
              0.2222222222222222,
              "#7201a8"
             ],
             [
              0.3333333333333333,
              "#9c179e"
             ],
             [
              0.4444444444444444,
              "#bd3786"
             ],
             [
              0.5555555555555556,
              "#d8576b"
             ],
             [
              0.6666666666666666,
              "#ed7953"
             ],
             [
              0.7777777777777778,
              "#fb9f3a"
             ],
             [
              0.8888888888888888,
              "#fdca26"
             ],
             [
              1,
              "#f0f921"
             ]
            ],
            "type": "heatmap"
           }
          ],
          "heatmapgl": [
           {
            "colorbar": {
             "outlinewidth": 0,
             "ticks": ""
            },
            "colorscale": [
             [
              0,
              "#0d0887"
             ],
             [
              0.1111111111111111,
              "#46039f"
             ],
             [
              0.2222222222222222,
              "#7201a8"
             ],
             [
              0.3333333333333333,
              "#9c179e"
             ],
             [
              0.4444444444444444,
              "#bd3786"
             ],
             [
              0.5555555555555556,
              "#d8576b"
             ],
             [
              0.6666666666666666,
              "#ed7953"
             ],
             [
              0.7777777777777778,
              "#fb9f3a"
             ],
             [
              0.8888888888888888,
              "#fdca26"
             ],
             [
              1,
              "#f0f921"
             ]
            ],
            "type": "heatmapgl"
           }
          ],
          "histogram": [
           {
            "marker": {
             "pattern": {
              "fillmode": "overlay",
              "size": 10,
              "solidity": 0.2
             }
            },
            "type": "histogram"
           }
          ],
          "histogram2d": [
           {
            "colorbar": {
             "outlinewidth": 0,
             "ticks": ""
            },
            "colorscale": [
             [
              0,
              "#0d0887"
             ],
             [
              0.1111111111111111,
              "#46039f"
             ],
             [
              0.2222222222222222,
              "#7201a8"
             ],
             [
              0.3333333333333333,
              "#9c179e"
             ],
             [
              0.4444444444444444,
              "#bd3786"
             ],
             [
              0.5555555555555556,
              "#d8576b"
             ],
             [
              0.6666666666666666,
              "#ed7953"
             ],
             [
              0.7777777777777778,
              "#fb9f3a"
             ],
             [
              0.8888888888888888,
              "#fdca26"
             ],
             [
              1,
              "#f0f921"
             ]
            ],
            "type": "histogram2d"
           }
          ],
          "histogram2dcontour": [
           {
            "colorbar": {
             "outlinewidth": 0,
             "ticks": ""
            },
            "colorscale": [
             [
              0,
              "#0d0887"
             ],
             [
              0.1111111111111111,
              "#46039f"
             ],
             [
              0.2222222222222222,
              "#7201a8"
             ],
             [
              0.3333333333333333,
              "#9c179e"
             ],
             [
              0.4444444444444444,
              "#bd3786"
             ],
             [
              0.5555555555555556,
              "#d8576b"
             ],
             [
              0.6666666666666666,
              "#ed7953"
             ],
             [
              0.7777777777777778,
              "#fb9f3a"
             ],
             [
              0.8888888888888888,
              "#fdca26"
             ],
             [
              1,
              "#f0f921"
             ]
            ],
            "type": "histogram2dcontour"
           }
          ],
          "mesh3d": [
           {
            "colorbar": {
             "outlinewidth": 0,
             "ticks": ""
            },
            "type": "mesh3d"
           }
          ],
          "parcoords": [
           {
            "line": {
             "colorbar": {
              "outlinewidth": 0,
              "ticks": ""
             }
            },
            "type": "parcoords"
           }
          ],
          "pie": [
           {
            "automargin": true,
            "type": "pie"
           }
          ],
          "scatter": [
           {
            "fillpattern": {
             "fillmode": "overlay",
             "size": 10,
             "solidity": 0.2
            },
            "type": "scatter"
           }
          ],
          "scatter3d": [
           {
            "line": {
             "colorbar": {
              "outlinewidth": 0,
              "ticks": ""
             }
            },
            "marker": {
             "colorbar": {
              "outlinewidth": 0,
              "ticks": ""
             }
            },
            "type": "scatter3d"
           }
          ],
          "scattercarpet": [
           {
            "marker": {
             "colorbar": {
              "outlinewidth": 0,
              "ticks": ""
             }
            },
            "type": "scattercarpet"
           }
          ],
          "scattergeo": [
           {
            "marker": {
             "colorbar": {
              "outlinewidth": 0,
              "ticks": ""
             }
            },
            "type": "scattergeo"
           }
          ],
          "scattergl": [
           {
            "marker": {
             "colorbar": {
              "outlinewidth": 0,
              "ticks": ""
             }
            },
            "type": "scattergl"
           }
          ],
          "scattermapbox": [
           {
            "marker": {
             "colorbar": {
              "outlinewidth": 0,
              "ticks": ""
             }
            },
            "type": "scattermapbox"
           }
          ],
          "scatterpolar": [
           {
            "marker": {
             "colorbar": {
              "outlinewidth": 0,
              "ticks": ""
             }
            },
            "type": "scatterpolar"
           }
          ],
          "scatterpolargl": [
           {
            "marker": {
             "colorbar": {
              "outlinewidth": 0,
              "ticks": ""
             }
            },
            "type": "scatterpolargl"
           }
          ],
          "scatterternary": [
           {
            "marker": {
             "colorbar": {
              "outlinewidth": 0,
              "ticks": ""
             }
            },
            "type": "scatterternary"
           }
          ],
          "surface": [
           {
            "colorbar": {
             "outlinewidth": 0,
             "ticks": ""
            },
            "colorscale": [
             [
              0,
              "#0d0887"
             ],
             [
              0.1111111111111111,
              "#46039f"
             ],
             [
              0.2222222222222222,
              "#7201a8"
             ],
             [
              0.3333333333333333,
              "#9c179e"
             ],
             [
              0.4444444444444444,
              "#bd3786"
             ],
             [
              0.5555555555555556,
              "#d8576b"
             ],
             [
              0.6666666666666666,
              "#ed7953"
             ],
             [
              0.7777777777777778,
              "#fb9f3a"
             ],
             [
              0.8888888888888888,
              "#fdca26"
             ],
             [
              1,
              "#f0f921"
             ]
            ],
            "type": "surface"
           }
          ],
          "table": [
           {
            "cells": {
             "fill": {
              "color": "#EBF0F8"
             },
             "line": {
              "color": "white"
             }
            },
            "header": {
             "fill": {
              "color": "#C8D4E3"
             },
             "line": {
              "color": "white"
             }
            },
            "type": "table"
           }
          ]
         },
         "layout": {
          "annotationdefaults": {
           "arrowcolor": "#2a3f5f",
           "arrowhead": 0,
           "arrowwidth": 1
          },
          "autotypenumbers": "strict",
          "coloraxis": {
           "colorbar": {
            "outlinewidth": 0,
            "ticks": ""
           }
          },
          "colorscale": {
           "diverging": [
            [
             0,
             "#8e0152"
            ],
            [
             0.1,
             "#c51b7d"
            ],
            [
             0.2,
             "#de77ae"
            ],
            [
             0.3,
             "#f1b6da"
            ],
            [
             0.4,
             "#fde0ef"
            ],
            [
             0.5,
             "#f7f7f7"
            ],
            [
             0.6,
             "#e6f5d0"
            ],
            [
             0.7,
             "#b8e186"
            ],
            [
             0.8,
             "#7fbc41"
            ],
            [
             0.9,
             "#4d9221"
            ],
            [
             1,
             "#276419"
            ]
           ],
           "sequential": [
            [
             0,
             "#0d0887"
            ],
            [
             0.1111111111111111,
             "#46039f"
            ],
            [
             0.2222222222222222,
             "#7201a8"
            ],
            [
             0.3333333333333333,
             "#9c179e"
            ],
            [
             0.4444444444444444,
             "#bd3786"
            ],
            [
             0.5555555555555556,
             "#d8576b"
            ],
            [
             0.6666666666666666,
             "#ed7953"
            ],
            [
             0.7777777777777778,
             "#fb9f3a"
            ],
            [
             0.8888888888888888,
             "#fdca26"
            ],
            [
             1,
             "#f0f921"
            ]
           ],
           "sequentialminus": [
            [
             0,
             "#0d0887"
            ],
            [
             0.1111111111111111,
             "#46039f"
            ],
            [
             0.2222222222222222,
             "#7201a8"
            ],
            [
             0.3333333333333333,
             "#9c179e"
            ],
            [
             0.4444444444444444,
             "#bd3786"
            ],
            [
             0.5555555555555556,
             "#d8576b"
            ],
            [
             0.6666666666666666,
             "#ed7953"
            ],
            [
             0.7777777777777778,
             "#fb9f3a"
            ],
            [
             0.8888888888888888,
             "#fdca26"
            ],
            [
             1,
             "#f0f921"
            ]
           ]
          },
          "colorway": [
           "#636efa",
           "#EF553B",
           "#00cc96",
           "#ab63fa",
           "#FFA15A",
           "#19d3f3",
           "#FF6692",
           "#B6E880",
           "#FF97FF",
           "#FECB52"
          ],
          "font": {
           "color": "#2a3f5f"
          },
          "geo": {
           "bgcolor": "white",
           "lakecolor": "white",
           "landcolor": "white",
           "showlakes": true,
           "showland": true,
           "subunitcolor": "#C8D4E3"
          },
          "hoverlabel": {
           "align": "left"
          },
          "hovermode": "closest",
          "mapbox": {
           "style": "light"
          },
          "paper_bgcolor": "white",
          "plot_bgcolor": "white",
          "polar": {
           "angularaxis": {
            "gridcolor": "#EBF0F8",
            "linecolor": "#EBF0F8",
            "ticks": ""
           },
           "bgcolor": "white",
           "radialaxis": {
            "gridcolor": "#EBF0F8",
            "linecolor": "#EBF0F8",
            "ticks": ""
           }
          },
          "scene": {
           "xaxis": {
            "backgroundcolor": "white",
            "gridcolor": "#DFE8F3",
            "gridwidth": 2,
            "linecolor": "#EBF0F8",
            "showbackground": true,
            "ticks": "",
            "zerolinecolor": "#EBF0F8"
           },
           "yaxis": {
            "backgroundcolor": "white",
            "gridcolor": "#DFE8F3",
            "gridwidth": 2,
            "linecolor": "#EBF0F8",
            "showbackground": true,
            "ticks": "",
            "zerolinecolor": "#EBF0F8"
           },
           "zaxis": {
            "backgroundcolor": "white",
            "gridcolor": "#DFE8F3",
            "gridwidth": 2,
            "linecolor": "#EBF0F8",
            "showbackground": true,
            "ticks": "",
            "zerolinecolor": "#EBF0F8"
           }
          },
          "shapedefaults": {
           "line": {
            "color": "#2a3f5f"
           }
          },
          "ternary": {
           "aaxis": {
            "gridcolor": "#DFE8F3",
            "linecolor": "#A2B1C6",
            "ticks": ""
           },
           "baxis": {
            "gridcolor": "#DFE8F3",
            "linecolor": "#A2B1C6",
            "ticks": ""
           },
           "bgcolor": "white",
           "caxis": {
            "gridcolor": "#DFE8F3",
            "linecolor": "#A2B1C6",
            "ticks": ""
           }
          },
          "title": {
           "x": 0.05
          },
          "xaxis": {
           "automargin": true,
           "gridcolor": "#EBF0F8",
           "linecolor": "#EBF0F8",
           "ticks": "",
           "title": {
            "standoff": 15
           },
           "zerolinecolor": "#EBF0F8",
           "zerolinewidth": 2
          },
          "yaxis": {
           "automargin": true,
           "gridcolor": "#EBF0F8",
           "linecolor": "#EBF0F8",
           "ticks": "",
           "title": {
            "standoff": 15
           },
           "zerolinecolor": "#EBF0F8",
           "zerolinewidth": 2
          }
         }
        },
        "title": {
         "text": "Global view"
        },
        "xaxis": {
         "title": {
          "text": "Date"
         }
        },
        "yaxis": {
         "title": {
          "text": "Price"
         }
        }
       }
      }
     },
     "metadata": {},
     "output_type": "display_data"
    }
   ],
   "source": [
    "StockVisualizer(title=\"Detail view\").visualize(raw_df[:50])\n",
    "\n",
    "# Compress dataframe (from each window of length 'w' select the day with the largest range Low - High)\n",
    "rows, w = [], 100\n",
    "for i in range(0, len(raw_df), w):\n",
    "    window = raw_df.iloc[i:i+w]\n",
    "    if window.empty:\n",
    "        continue\n",
    "    idx = (window[\"High\"] - window[\"Low\"]).idxmax()\n",
    "    rows.append(raw_df.loc[idx])\n",
    "compressed_df = pd.DataFrame(rows).reset_index(drop=True)\n",
    "\n",
    "StockVisualizer(title=\"Global view\").visualize(compressed_df)"
   ]
  }
 ],
 "metadata": {
  "kernelspec": {
   "display_name": "main",
   "language": "python",
   "name": "python3"
  },
  "language_info": {
   "codemirror_mode": {
    "name": "ipython",
    "version": 3
   },
   "file_extension": ".py",
   "mimetype": "text/x-python",
   "name": "python",
   "nbconvert_exporter": "python",
   "pygments_lexer": "ipython3",
   "version": "3.12.4"
  }
 },
 "nbformat": 4,
 "nbformat_minor": 2
}
